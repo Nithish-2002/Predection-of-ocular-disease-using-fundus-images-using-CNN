{
 "cells": [
  {
   "cell_type": "code",
   "execution_count": 2,
   "id": "3bbc25d0-c7d2-48b5-af6a-ace9ae9f0e80",
   "metadata": {},
   "outputs": [],
   "source": [
    "# imports\n",
    "import matplotlib.pyplot as plt\n",
    "import numpy as np\n",
    "import os\n",
    "import pandas as pd\n",
    "\n",
    "from tensorflow.keras.layers import Dense, Dropout, Flatten, Conv2D, MaxPooling2D\n",
    "from tensorflow.keras.models import Sequential\n",
    "from tensorflow.keras.preprocessing.image import img_to_array, load_img\n",
    "\n",
    "from sklearn.model_selection import train_test_split\n",
    "\n",
    "# For reproducibility\n",
    "np.random.seed(42)"
   ]
  },
  {
   "cell_type": "markdown",
   "id": "d9b6ee25-11f2-47e4-bb28-78e64266fd42",
   "metadata": {},
   "source": [
    "## In order to train our model we need to change the size of our pictures to 512x512"
   ]
  },
  {
   "cell_type": "markdown",
   "id": "0af8681c-128b-427e-b3dd-0eccae601c46",
   "metadata": {},
   "source": [
    "## Cataract convertion"
   ]
  },
  {
   "cell_type": "code",
   "execution_count": 3,
   "id": "d8b24f22-f04b-4f7b-ae6b-cbf056ccfd33",
   "metadata": {},
   "outputs": [
    {
     "name": "stdout",
     "output_type": "stream",
     "text": [
      "100 pictures converted.\n"
     ]
    }
   ],
   "source": [
    "# create list\n",
    "cataract = []\n",
    "# define filepath for cataract class\n",
    "cataract_path = './eyes/Cataract/'\n",
    "\n",
    "# convert each image to normalized array and store\n",
    "for file in os.listdir(cataract_path):\n",
    "    try:\n",
    "        # target_size automatically resizes each img on import\n",
    "        cat = load_img(cataract_path + file, target_size=(512, 512))\n",
    "        car_arr = img_to_array(cat) / 255\n",
    "        cataract.append(car_arr)\n",
    "    except:\n",
    "        print(f'Error for file: {file}')\n",
    "\n",
    "print(f'{len(cataract)} pictures converted.')"
   ]
  },
  {
   "cell_type": "code",
   "execution_count": 4,
   "id": "8d24c3be-2049-4162-997d-948310c612be",
   "metadata": {},
   "outputs": [],
   "source": [
    "cataract = np.array(cataract)"
   ]
  },
  {
   "cell_type": "code",
   "execution_count": 5,
   "id": "1659469e-f00c-4048-96c5-73a5587eead6",
   "metadata": {},
   "outputs": [
    {
     "data": {
      "text/plain": [
       "(100, 512, 512, 3)"
      ]
     },
     "execution_count": 5,
     "metadata": {},
     "output_type": "execute_result"
    }
   ],
   "source": [
    "cataract.shape"
   ]
  },
  {
   "cell_type": "code",
   "execution_count": 6,
   "id": "9a2b6055-ec7e-400b-976c-ae07bd40d94a",
   "metadata": {},
   "outputs": [
    {
     "name": "stdout",
     "output_type": "stream",
     "text": [
      "Error for file: .DS_Store\n",
      "Error for file: .ipynb_checkpoints\n",
      "153 pictures converted.\n"
     ]
    }
   ],
   "source": [
    "# create list\n",
    "cataract_2 = []\n",
    "# define filepath for cataract class\n",
    "cataract_path_2 = './eyes/Cataract_left/'\n",
    "\n",
    "# convert each image to normalized array and store\n",
    "for file in os.listdir(cataract_path_2):\n",
    "    try:\n",
    "        # target_size automatically resizes each img on import\n",
    "        cat = load_img(cataract_path_2 + file, target_size=(512, 512))\n",
    "        car_arr = img_to_array(cat) / 255\n",
    "        cataract_2.append(car_arr)\n",
    "    except:\n",
    "        print(f'Error for file: {file}')\n",
    "\n",
    "print(f'{len(cataract_2)} pictures converted.')"
   ]
  },
  {
   "cell_type": "code",
   "execution_count": 7,
   "id": "33134d78-c681-4486-a3b0-27898c90635e",
   "metadata": {},
   "outputs": [
    {
     "data": {
      "text/plain": [
       "(153, 512, 512, 3)"
      ]
     },
     "execution_count": 7,
     "metadata": {},
     "output_type": "execute_result"
    }
   ],
   "source": [
    "cataract_2 = np.array(cataract_2)\n",
    "cataract_2.shape"
   ]
  },
  {
   "cell_type": "code",
   "execution_count": 8,
   "id": "043d8bf4-f3b0-4816-91ef-63f51294d4e4",
   "metadata": {},
   "outputs": [
    {
     "name": "stdout",
     "output_type": "stream",
     "text": [
      "148 pictures converted.\n"
     ]
    }
   ],
   "source": [
    "# create list\n",
    "cataract_3 = []\n",
    "# define filepath for cataract class\n",
    "cataract_path_3 = './eyes/Cataract_right/'\n",
    "\n",
    "# convert each image to normalized array and store\n",
    "for file in os.listdir(cataract_path_3):\n",
    "    try:\n",
    "        # target_size automatically resizes each img on import\n",
    "        cat = load_img(cataract_path_3 + file, target_size=(512, 512))\n",
    "        car_arr = img_to_array(cat) / 255\n",
    "        cataract_3.append(car_arr)\n",
    "    except:\n",
    "        print(f'Error for file: {file}')\n",
    "\n",
    "print(f'{len(cataract_3)} pictures converted.')"
   ]
  },
  {
   "cell_type": "code",
   "execution_count": 9,
   "id": "4d5c458d-2e08-4a6a-9de4-d0aa8c00df56",
   "metadata": {},
   "outputs": [
    {
     "data": {
      "text/plain": [
       "(148, 512, 512, 3)"
      ]
     },
     "execution_count": 9,
     "metadata": {},
     "output_type": "execute_result"
    }
   ],
   "source": [
    "cataract_3 = np.array(cataract_3)\n",
    "cataract_3.shape"
   ]
  },
  {
   "cell_type": "markdown",
   "id": "4d0c2113-1c85-4d30-bc69-677d6cb9dfe0",
   "metadata": {},
   "source": [
    "## Glaucoma convertion"
   ]
  },
  {
   "cell_type": "code",
   "execution_count": 12,
   "id": "95d95993-f638-4720-8e37-498504b3e8e2",
   "metadata": {},
   "outputs": [
    {
     "name": "stdout",
     "output_type": "stream",
     "text": [
      "101 pictures converted.\n"
     ]
    }
   ],
   "source": [
    "# create list\n",
    "Glaucoma = []\n",
    "# define filepath for Glaucoma class\n",
    "Glaucoma_path = './eyes/Glaucoma/'\n",
    "\n",
    "# convert each image to normalized array and store\n",
    "for file in os.listdir(Glaucoma_path):\n",
    "    try:\n",
    "        # target_size automatically resizes each img on import\n",
    "        cat = load_img(Glaucoma_path + file, target_size=(512, 512))\n",
    "        car_arr = img_to_array(cat) / 255\n",
    "        Glaucoma.append(car_arr)\n",
    "    except:\n",
    "        print(f'Error for file: {file}')\n",
    "\n",
    "print(f'{len(Glaucoma)} pictures converted.')"
   ]
  },
  {
   "cell_type": "code",
   "execution_count": 13,
   "id": "b9bea73b-7c10-403d-8f71-670ac517b50c",
   "metadata": {},
   "outputs": [
    {
     "data": {
      "text/plain": [
       "(101, 512, 512, 3)"
      ]
     },
     "execution_count": 13,
     "metadata": {},
     "output_type": "execute_result"
    }
   ],
   "source": [
    "Glaucoma = np.array(Glaucoma)\n",
    "Glaucoma.shape"
   ]
  },
  {
   "cell_type": "code",
   "execution_count": 14,
   "id": "b181c663-40d8-4bda-8e74-4fc8192ade59",
   "metadata": {},
   "outputs": [
    {
     "name": "stdout",
     "output_type": "stream",
     "text": [
      "168 pictures converted.\n"
     ]
    }
   ],
   "source": [
    "# create list\n",
    "Glaucoma_2 = []\n",
    "# define filepath for Glaucoma class\n",
    "Glaucoma_path_2 = './eyes/Glaucoma_left/'\n",
    "\n",
    "# convert each image to normalized array and store\n",
    "for file in os.listdir(Glaucoma_path_2):\n",
    "    try:\n",
    "        # target_size automatically resizes each img on import\n",
    "        cat = load_img(Glaucoma_path_2 + file, target_size=(512, 512))\n",
    "        car_arr = img_to_array(cat) / 255\n",
    "        Glaucoma_2.append(car_arr)\n",
    "    except:\n",
    "        print(f'Error for file: {file}')\n",
    "\n",
    "print(f'{len(Glaucoma_2)} pictures converted.')"
   ]
  },
  {
   "cell_type": "code",
   "execution_count": 15,
   "id": "40d7de1e-7957-4116-9010-eba4d063b57d",
   "metadata": {},
   "outputs": [
    {
     "data": {
      "text/plain": [
       "(168, 512, 512, 3)"
      ]
     },
     "execution_count": 15,
     "metadata": {},
     "output_type": "execute_result"
    }
   ],
   "source": [
    "Glaucoma_2 = np.array(Glaucoma_2)\n",
    "Glaucoma_2.shape"
   ]
  },
  {
   "cell_type": "code",
   "execution_count": 16,
   "id": "7a5e4ea8-fae7-4f1b-b1e2-ff66cf30a42c",
   "metadata": {},
   "outputs": [
    {
     "name": "stdout",
     "output_type": "stream",
     "text": [
      "145 pictures converted.\n"
     ]
    }
   ],
   "source": [
    "# create list\n",
    "Glaucoma_3 = []\n",
    "# define filepath for Glaucoma class\n",
    "Glaucoma_path_3 = './eyes/Glaucoma_right/'\n",
    "\n",
    "# convert each image to normalized array and store\n",
    "for file in os.listdir(Glaucoma_path_3):\n",
    "    try:\n",
    "        # target_size automatically resizes each img on import\n",
    "        cat = load_img(Glaucoma_path_3 + file, target_size=(512, 512))\n",
    "        car_arr = img_to_array(cat) / 255\n",
    "        Glaucoma_3.append(car_arr)\n",
    "    except:\n",
    "        print(f'Error for file: {file}')\n",
    "\n",
    "print(f'{len(Glaucoma_3)} pictures converted.')"
   ]
  },
  {
   "cell_type": "code",
   "execution_count": 18,
   "id": "a3988eda-c71c-4c8f-9cb8-18c7c6839260",
   "metadata": {},
   "outputs": [
    {
     "data": {
      "text/plain": [
       "(145, 512, 512, 3)"
      ]
     },
     "execution_count": 18,
     "metadata": {},
     "output_type": "execute_result"
    }
   ],
   "source": [
    "Glaucoma_3 = np.array(Glaucoma_3)\n",
    "Glaucoma_3.shape"
   ]
  },
  {
   "cell_type": "markdown",
   "id": "82190f0f-d0aa-4824-9205-2ccbb3de11c3",
   "metadata": {},
   "source": [
    "## Myopia convertion"
   ]
  },
  {
   "cell_type": "code",
   "execution_count": 17,
   "id": "a337898f-36db-4bb7-9fb0-4d445817fd4b",
   "metadata": {},
   "outputs": [
    {
     "name": "stdout",
     "output_type": "stream",
     "text": [
      "101 pictures converted.\n"
     ]
    }
   ],
   "source": [
    "# create list\n",
    "mya = []\n",
    "# define filepath for Myopia class\n",
    "mya_path = './eyes/mya/'\n",
    "\n",
    "# convert each image to normalized array and store\n",
    "for file in os.listdir(mya_path):\n",
    "    try:\n",
    "        # target_size automatically resizes each img on import\n",
    "        cat = load_img(mya_path + file, target_size=(512, 512))\n",
    "        car_arr = img_to_array(cat) / 255\n",
    "        mya.append(car_arr)\n",
    "    except:\n",
    "        print(f'Error for file: {file}')\n",
    "\n",
    "print(f'{len(mya)} pictures converted.')"
   ]
  },
  {
   "cell_type": "code",
   "execution_count": 19,
   "id": "c8cf31ad-75bf-4cee-a2ea-39247d16e48a",
   "metadata": {},
   "outputs": [
    {
     "data": {
      "text/plain": [
       "(101, 512, 512, 3)"
      ]
     },
     "execution_count": 19,
     "metadata": {},
     "output_type": "execute_result"
    }
   ],
   "source": [
    "mya = np.array(mya)\n",
    "mya.shape"
   ]
  },
  {
   "cell_type": "code",
   "execution_count": 20,
   "id": "2a78eb57-332f-4e97-ba40-5194c73c8ea9",
   "metadata": {},
   "outputs": [
    {
     "name": "stdout",
     "output_type": "stream",
     "text": [
      "120 pictures converted.\n"
     ]
    }
   ],
   "source": [
    "# create list\n",
    "Myopia_left = []\n",
    "# define filepath for Myiopia class\n",
    "Myopia_left_path = './eyes/Myopia_left/'\n",
    "\n",
    "# convert each image to normalized array and store\n",
    "for file in os.listdir(Myopia_left_path):\n",
    "    try:\n",
    "        # target_size automatically resizes each img on import\n",
    "        cat = load_img(Myopia_left_path + file, target_size=(512, 512))\n",
    "        car_arr = img_to_array(cat) / 255\n",
    "        Myopia_left.append(car_arr)\n",
    "    except:\n",
    "        print(f'Error for file: {file}')\n",
    "\n",
    "print(f'{len(Myopia_left)} pictures converted.')"
   ]
  },
  {
   "cell_type": "code",
   "execution_count": 21,
   "id": "a514f09e-9871-4e1d-8029-df45a0d61535",
   "metadata": {},
   "outputs": [
    {
     "data": {
      "text/plain": [
       "(120, 512, 512, 3)"
      ]
     },
     "execution_count": 21,
     "metadata": {},
     "output_type": "execute_result"
    }
   ],
   "source": [
    "Myopia_left = np.array(Myopia_left)\n",
    "Myopia_left.shape"
   ]
  },
  {
   "cell_type": "code",
   "execution_count": 22,
   "id": "3e043dae-f831-41b8-a88f-8a7a4454ae69",
   "metadata": {},
   "outputs": [
    {
     "name": "stdout",
     "output_type": "stream",
     "text": [
      "133 pictures converted.\n"
     ]
    }
   ],
   "source": [
    "# create list\n",
    "Myopia_right = []\n",
    "# define filepath for Myopia class\n",
    "Myopia_right_path = './eyes/Myopia_right/'\n",
    "\n",
    "# convert each image to normalized array and store\n",
    "for file in os.listdir(Myopia_right_path):\n",
    "    try:\n",
    "        # target_size automatically resizes each img on import\n",
    "        cat = load_img(Myopia_right_path + file, target_size=(512, 512))\n",
    "        car_arr = img_to_array(cat) / 255\n",
    "        Myopia_right.append(car_arr)\n",
    "    except:\n",
    "        print(f'Error for file: {file}')\n",
    "\n",
    "print(f'{len(Myopia_right)} pictures converted.')"
   ]
  },
  {
   "cell_type": "code",
   "execution_count": 23,
   "id": "83e659a0-6dc2-4f9c-ad4d-80c47fd49a7b",
   "metadata": {},
   "outputs": [
    {
     "data": {
      "text/plain": [
       "(120, 512, 512, 3)"
      ]
     },
     "execution_count": 23,
     "metadata": {},
     "output_type": "execute_result"
    }
   ],
   "source": [
    "Myopia_left = np.array(Myopia_left)\n",
    "Myopia_left.shape"
   ]
  },
  {
   "cell_type": "markdown",
   "id": "2e12025d-14b4-4c87-9216-19ca17396a12",
   "metadata": {},
   "source": [
    "## Normal Eyes convertion"
   ]
  },
  {
   "cell_type": "code",
   "execution_count": 24,
   "id": "c141e9f6-3d03-4432-88dc-5669982e5cdd",
   "metadata": {},
   "outputs": [
    {
     "name": "stdout",
     "output_type": "stream",
     "text": [
      "300 pictures converted.\n"
     ]
    }
   ],
   "source": [
    "# create list\n",
    "Normal = []\n",
    "# define filepath for Normal class\n",
    "Normal_path = './eyes/Normal/'\n",
    "\n",
    "# convert each image to normalized array and store\n",
    "for file in os.listdir(Normal_path):\n",
    "    try:\n",
    "        # target_size automatically resizes each img on import\n",
    "        cat = load_img(Normal_path + file, target_size=(512, 512))\n",
    "        car_arr = img_to_array(cat) / 255\n",
    "        Normal.append(car_arr)\n",
    "    except:\n",
    "        print(f'Error for file: {file}')\n",
    "\n",
    "print(f'{len(Normal)} pictures converted.')"
   ]
  },
  {
   "cell_type": "code",
   "execution_count": 25,
   "id": "3e37b6f3-1e66-4385-8056-5e07cce6728c",
   "metadata": {},
   "outputs": [
    {
     "data": {
      "text/plain": [
       "(300, 512, 512, 3)"
      ]
     },
     "execution_count": 25,
     "metadata": {},
     "output_type": "execute_result"
    }
   ],
   "source": [
    "Normal = np.array(Normal)\n",
    "Normal.shape"
   ]
  },
  {
   "cell_type": "code",
   "execution_count": 27,
   "id": "4e4e32a5-6883-4dda-a344-0207b0a8b6fa",
   "metadata": {},
   "outputs": [
    {
     "name": "stdout",
     "output_type": "stream",
     "text": [
      "1470 pictures converted.\n"
     ]
    }
   ],
   "source": [
    "# create list\n",
    "Normal_left = []\n",
    "# define filepath for Normal class\n",
    "Normal_left_path = './eyes/normal_left/'\n",
    "\n",
    "# convert each image to normalized array and store\n",
    "for file in os.listdir(Normal_left_path):\n",
    "    try:\n",
    "        # target_size automatically resizes each img on import\n",
    "        cat = load_img(Normal_left_path + file, target_size=(512, 512))\n",
    "        car_arr = img_to_array(cat) / 255\n",
    "        Normal_left.append(car_arr)\n",
    "    except:\n",
    "        print(f'Error for file: {file}')\n",
    "\n",
    "print(f'{len(Normal_left)} pictures converted.')"
   ]
  },
  {
   "cell_type": "code",
   "execution_count": 28,
   "id": "967aeffd-5475-4e5a-abe7-bc14af06817c",
   "metadata": {},
   "outputs": [
    {
     "data": {
      "text/plain": [
       "(1470, 512, 512, 3)"
      ]
     },
     "execution_count": 28,
     "metadata": {},
     "output_type": "execute_result"
    }
   ],
   "source": [
    "Normal_left = np.array(Normal_left)\n",
    "Normal_left.shape"
   ]
  },
  {
   "cell_type": "code",
   "execution_count": 31,
   "id": "052955c2-f37d-43d6-8fbe-34501fa823de",
   "metadata": {},
   "outputs": [
    {
     "name": "stdout",
     "output_type": "stream",
     "text": [
      "Error for file: .ipynb_checkpoints\n",
      "1404 pictures converted.\n"
     ]
    }
   ],
   "source": [
    "# create list\n",
    "Normal_right = []\n",
    "# define filepath for Normal class\n",
    "Normal_right_path = './eyes/normal_right/'\n",
    "\n",
    "# convert each image to normalized array and store\n",
    "for file in os.listdir(Normal_right_path):\n",
    "    try:\n",
    "        # target_size automatically resizes each img on import\n",
    "        cat = load_img(Normal_right_path + file, target_size=(512, 512))\n",
    "        car_arr = img_to_array(cat) / 255\n",
    "        Normal_right.append(car_arr)\n",
    "    except:\n",
    "        print(f'Error for file: {file}')\n",
    "\n",
    "print(f'{len(Normal_right)} pictures converted.')"
   ]
  },
  {
   "cell_type": "code",
   "execution_count": 32,
   "id": "56134d15-2670-492a-b710-1e6a2726b15a",
   "metadata": {},
   "outputs": [
    {
     "data": {
      "text/plain": [
       "(1404, 512, 512, 3)"
      ]
     },
     "execution_count": 32,
     "metadata": {},
     "output_type": "execute_result"
    }
   ],
   "source": [
    "Normal_right = np.array(Normal_right)\n",
    "Normal_right.shape"
   ]
  },
  {
   "cell_type": "markdown",
   "id": "4cd2633c-30da-4b41-8018-43710738da48",
   "metadata": {},
   "source": [
    "## Retinopathy Convertion"
   ]
  },
  {
   "cell_type": "code",
   "execution_count": 10,
   "id": "754dd11f-c12d-4ee6-843b-32e4c984fbcd",
   "metadata": {},
   "outputs": [
    {
     "name": "stdout",
     "output_type": "stream",
     "text": [
      "376 pictures converted.\n"
     ]
    }
   ],
   "source": [
    "# create list\n",
    "dr = []\n",
    "# define filepath for DR class\n",
    "dr_path = './eyes/dr/'\n",
    "\n",
    "# convert each image to normalized array and store\n",
    "for file in os.listdir(dr_path):\n",
    "    try:\n",
    "        # target_size automatically resizes each img on import\n",
    "        cat = load_img(dr_path + file, target_size=(512, 512))\n",
    "        car_arr = img_to_array(cat) / 255\n",
    "        dr.append(car_arr)\n",
    "    except:\n",
    "        print(f'Error for file: {file}')\n",
    "\n",
    "print(f'{len(dr)} pictures converted.')"
   ]
  },
  {
   "cell_type": "code",
   "execution_count": 11,
   "id": "a080f66c-1838-466f-92b6-8448c9882091",
   "metadata": {},
   "outputs": [
    {
     "data": {
      "text/plain": [
       "(376, 512, 512, 3)"
      ]
     },
     "execution_count": 11,
     "metadata": {},
     "output_type": "execute_result"
    }
   ],
   "source": [
    "dr = np.array(dr)\n",
    "dr.shape"
   ]
  },
  {
   "cell_type": "code",
   "execution_count": 33,
   "id": "441833a4-453d-4f2b-bacf-7445f669c9ac",
   "metadata": {},
   "outputs": [
    {
     "name": "stdout",
     "output_type": "stream",
     "text": [
      "910 pictures converted.\n"
     ]
    }
   ],
   "source": [
    "# create list\n",
    "reti_left = []\n",
    "# define filepath for Retinopathy class\n",
    "reti_left_path = './eyes/Retinopathy_left/'\n",
    "\n",
    "# convert each image to normalized array and store\n",
    "for file in os.listdir(reti_left_path):\n",
    "    try:\n",
    "        # target_size automatically resizes each img on import\n",
    "        cat = load_img(reti_left_path + file, target_size=(512, 512))\n",
    "        car_arr = img_to_array(cat) / 255\n",
    "        reti_left.append(car_arr)\n",
    "    except:\n",
    "        print(f'Error for file: {file}')\n",
    "\n",
    "print(f'{len(reti_left)} pictures converted.')"
   ]
  },
  {
   "cell_type": "code",
   "execution_count": 34,
   "id": "f50ba03d-6bd7-4e9d-aec5-6a99dd775388",
   "metadata": {},
   "outputs": [
    {
     "data": {
      "text/plain": [
       "(910, 512, 512, 3)"
      ]
     },
     "execution_count": 34,
     "metadata": {},
     "output_type": "execute_result"
    }
   ],
   "source": [
    "reti_left = np.array(reti_left)\n",
    "reti_left.shape"
   ]
  },
  {
   "cell_type": "code",
   "execution_count": 35,
   "id": "c0f9f738-65b2-409f-b40b-3463e95149a5",
   "metadata": {},
   "outputs": [
    {
     "name": "stdout",
     "output_type": "stream",
     "text": [
      "948 pictures converted.\n"
     ]
    }
   ],
   "source": [
    "# create list\n",
    "reti_right = []\n",
    "# define filepath for Retinopathy class\n",
    "reti_right_path = './eyes/Retinopathy_right/'\n",
    "\n",
    "# convert each image to normalized array and store\n",
    "for file in os.listdir(reti_right_path):\n",
    "    try:\n",
    "        # target_size automatically resizes each img on import\n",
    "        cat = load_img(reti_right_path + file, target_size=(512, 512))\n",
    "        car_arr = img_to_array(cat) / 255\n",
    "        reti_right.append(car_arr)\n",
    "    except:\n",
    "        print(f'Error for file: {file}')\n",
    "\n",
    "print(f'{len(reti_right)} pictures converted.')"
   ]
  },
  {
   "cell_type": "code",
   "execution_count": 36,
   "id": "1fcb3fbc-19d4-4b66-981e-c0d95ec68804",
   "metadata": {},
   "outputs": [
    {
     "data": {
      "text/plain": [
       "(948, 512, 512, 3)"
      ]
     },
     "execution_count": 36,
     "metadata": {},
     "output_type": "execute_result"
    }
   ],
   "source": [
    "reti_right = np.array(reti_right)\n",
    "reti_right.shape"
   ]
  },
  {
   "cell_type": "markdown",
   "id": "004f5f5b-9152-49d0-8108-577a3d7cdfc6",
   "metadata": {},
   "source": [
    "## Test convertion"
   ]
  },
  {
   "cell_type": "code",
   "execution_count": 37,
   "id": "e2364d38-0813-412f-ad10-a96701cb46e0",
   "metadata": {},
   "outputs": [
    {
     "name": "stdout",
     "output_type": "stream",
     "text": [
      "Error for file: .ipynb_checkpoints\n",
      "631 pictures converted.\n"
     ]
    }
   ],
   "source": [
    "# create list\n",
    "test = []\n",
    "# define filepath for Retinopathy class\n",
    "test_path = './eyes/Test/'\n",
    "\n",
    "# convert each image to normalized array and store\n",
    "for file in os.listdir(test_path):\n",
    "    try:\n",
    "        # target_size automatically resizes each img on import\n",
    "        cat = load_img(test_path + file, target_size=(512, 512))\n",
    "        car_arr = img_to_array(cat) / 255\n",
    "        test.append(car_arr)\n",
    "    except:\n",
    "        print(f'Error for file: {file}')\n",
    "\n",
    "print(f'{len(test)} pictures converted.')"
   ]
  },
  {
   "cell_type": "code",
   "execution_count": 38,
   "id": "5c46bf7c-24d5-4327-b4a0-7e898fb1f753",
   "metadata": {},
   "outputs": [
    {
     "data": {
      "text/plain": [
       "(631, 512, 512, 3)"
      ]
     },
     "execution_count": 38,
     "metadata": {},
     "output_type": "execute_result"
    }
   ],
   "source": [
    "test = np.array(test)\n",
    "test.shape"
   ]
  },
  {
   "cell_type": "code",
   "execution_count": null,
   "id": "9bba671c-1b02-4655-89ae-d3b29e9de006",
   "metadata": {},
   "outputs": [],
   "source": []
  }
 ],
 "metadata": {
  "kernelspec": {
   "display_name": "Python 3",
   "language": "python",
   "name": "python3"
  },
  "language_info": {
   "codemirror_mode": {
    "name": "ipython",
    "version": 3
   },
   "file_extension": ".py",
   "mimetype": "text/x-python",
   "name": "python",
   "nbconvert_exporter": "python",
   "pygments_lexer": "ipython3",
   "version": "3.8.8"
  }
 },
 "nbformat": 4,
 "nbformat_minor": 5
}
