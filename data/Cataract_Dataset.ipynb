{
 "cells": [
  {
   "cell_type": "markdown",
   "id": "915804f4-0e60-48e5-ab36-a4482d582d42",
   "metadata": {},
   "source": [
    "# Cataract Dataset Kaggle"
   ]
  },
  {
   "cell_type": "markdown",
   "id": "408d592a-f5dc-4f20-acd8-381dd42d1e9f",
   "metadata": {},
   "source": [
    "Source : *https://www.kaggle.com/jr2ngb/cataractdataset?select=README.md*"
   ]
  },
  {
   "cell_type": "markdown",
   "id": "2a97d179-9efc-44eb-974b-067ec8443d31",
   "metadata": {},
   "source": [
    "#### This data set is alredy sorted, we are just going to see how many elements are in each directory"
   ]
  },
  {
   "cell_type": "code",
   "execution_count": 1,
   "id": "8d2b7699-3cec-4964-a86d-643e5f994b86",
   "metadata": {},
   "outputs": [],
   "source": [
    "# imports\n",
    "import matplotlib.pyplot as plt\n",
    "import numpy as np\n",
    "import os\n",
    "import shutil\n",
    "import pandas as pd\n",
    "import os.path as path"
   ]
  },
  {
   "cell_type": "markdown",
   "id": "f04a4e49-fe97-456f-838d-110decfe04f5",
   "metadata": {},
   "source": [
    "### 1. Normal Eye"
   ]
  },
  {
   "cell_type": "code",
   "execution_count": 2,
   "id": "14c34be1-1037-443c-a054-aa7824b77175",
   "metadata": {},
   "outputs": [
    {
     "data": {
      "text/plain": [
       "300"
      ]
     },
     "execution_count": 2,
     "metadata": {},
     "output_type": "execute_result"
    }
   ],
   "source": [
    "path, dirs, files = next(os.walk(\"./Normal\"))\n",
    "file_count = len(files)\n",
    "file_count"
   ]
  },
  {
   "cell_type": "markdown",
   "id": "7895cb23-25f7-4ca0-b042-8186ec6b7428",
   "metadata": {},
   "source": [
    "### 2. Glaucoma Eye"
   ]
  },
  {
   "cell_type": "code",
   "execution_count": 3,
   "id": "50ed8007-2e2a-4a8f-89cb-72f91074b46b",
   "metadata": {},
   "outputs": [
    {
     "data": {
      "text/plain": [
       "101"
      ]
     },
     "execution_count": 3,
     "metadata": {},
     "output_type": "execute_result"
    }
   ],
   "source": [
    "path, dirs, files = next(os.walk(\"./Glaucoma\"))\n",
    "file_count = len(files)\n",
    "file_count"
   ]
  },
  {
   "cell_type": "markdown",
   "id": "fc658509-d7ea-4254-aee9-4925c46708f2",
   "metadata": {},
   "source": [
    "### 3. Cataract"
   ]
  },
  {
   "cell_type": "code",
   "execution_count": 4,
   "id": "c11b83c7-1f4f-4543-a75f-dd6a1d687995",
   "metadata": {},
   "outputs": [
    {
     "data": {
      "text/plain": [
       "100"
      ]
     },
     "execution_count": 4,
     "metadata": {},
     "output_type": "execute_result"
    }
   ],
   "source": [
    "path, dirs, files = next(os.walk(\"./Cataract/\"))\n",
    "file_count = len(files)\n",
    "file_count"
   ]
  }
 ],
 "metadata": {
  "kernelspec": {
   "display_name": "Python 3",
   "language": "python",
   "name": "python3"
  },
  "language_info": {
   "codemirror_mode": {
    "name": "ipython",
    "version": 3
   },
   "file_extension": ".py",
   "mimetype": "text/x-python",
   "name": "python",
   "nbconvert_exporter": "python",
   "pygments_lexer": "ipython3",
   "version": "3.8.8"
  }
 },
 "nbformat": 4,
 "nbformat_minor": 5
}
